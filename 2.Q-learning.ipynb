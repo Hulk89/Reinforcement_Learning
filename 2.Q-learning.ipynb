{
 "cells": [
  {
   "cell_type": "markdown",
   "metadata": {},
   "source": [
    "# Q-learning\n",
    "\n",
    "## Q의 정의\n",
    "* $Q(s, a)$ : state $s$에서 action $a$를 취하고, 그다음부터는 $\\pi$정책을 따라갈 때 총 보상 $R$의 기대값\n",
    "  * $\\pi(s)$: $argmax_a Q(s,a)$\n",
    "\n",
    "## 구하는 법\n",
    "$$Q(s,a) = E_{s' \\sim p(s'|s,a)}[r(s,a) + \\gamma \\cdot V(s')]$$\n",
    "\n",
    "여기서 $s' \\sim p(s'|s,a)$는 sampling으로 할 수 있다.\n",
    "\n",
    "## procedure\n",
    "* 초기화\n",
    "  * $\\forall s \\in S, \\forall a \\in A, Q(s,a) \\leftarrow 0$\n",
    "  * 물론 $\\gamma$와 $\\alpha$도 지정해야지..\n",
    "* 샘플링\n",
    "  * environment에서 `<s,a,r,s'>`를 뽑아낸다.\n",
    "* 새로운 Q 계산\n",
    "  * $\\hat{Q}(s,a) = r(s,a) + \\gamma \\cdot max_{a_i}Q(s', a_i)$\n",
    "* Q 업데이트\n",
    "  * $Q(s,a) = \\alpha \\cdot \\hat{Q}(s,a) + (1-\\alpha)\\cdot Q(s, a)$"
   ]
  },
  {
   "cell_type": "code",
   "execution_count": 1,
   "metadata": {
    "collapsed": true
   },
   "outputs": [],
   "source": [
    "import random,math\n",
    "\n",
    "import numpy as np\n",
    "from collections import defaultdict\n",
    "\n",
    "class QLearningAgent():\n",
    "    \"\"\"\n",
    "      Q-Learning Agent\n",
    "  \n",
    "      Instance variables\n",
    "        - self.epsilon  (exploration prob)\n",
    "        - self.alpha    (learning rate)\n",
    "        - self.discount (gamma 값)\n",
    "  \n",
    "      Functions you should use\n",
    "        - self.getLegalActions(state)\n",
    "          state에 대해 가능한 action을 알려주는 함수\n",
    "        - self.getQValue(state,action)\n",
    "          Q(state,action)를 반환\n",
    "        - self.setQValue(state,action,value)\n",
    "          Q(state,action) := value\n",
    "    \"\"\"\n",
    "    def __init__(self,alpha,epsilon,discount,getLegalActions):\n",
    "        \"We initialize agent and Q-values here.\"\n",
    "        self.getLegalActions= getLegalActions\n",
    "        self._qValues = defaultdict(lambda:defaultdict(lambda:0))\n",
    "        self.alpha = alpha\n",
    "        self.epsilon = epsilon\n",
    "        self.discount = discount\n",
    "  \n",
    "    def getQValue(self, state, action):\n",
    "        \"\"\"\n",
    "          Returns Q(state,action)\n",
    "        \"\"\"\n",
    "        return self._qValues[state][action]\n",
    "  \n",
    "    def setQValue(self,state,action,value):\n",
    "        \"\"\"\n",
    "          Sets the Qvalue for [state,action] to the given value\n",
    "        \"\"\"\n",
    "        self._qValues[state][action] = value\n",
    "  \n",
    "    def getValue(self, state):\n",
    "        \"\"\"\n",
    "          Returns max_action Q(state,action)\n",
    "        \"\"\"\n",
    "        \n",
    "        possibleActions = self.getLegalActions(state)\n",
    "        #If there are no legal actions, return 0.0\n",
    "        if len(possibleActions) == 0:\n",
    "            return 0.0\n",
    "\n",
    "        return np.max(np.array([self.getQValue(state, action)\n",
    "                               for action in possibleActions]))\n",
    "      \n",
    "    def getPolicy(self, state):\n",
    "        \"\"\"\n",
    "          Compute the best action to take in a state. \n",
    "        \"\"\"\n",
    "        possibleActions = self.getLegalActions(state)\n",
    "    \n",
    "        #If there are no legal actions, return None\n",
    "        if len(possibleActions) == 0:\n",
    "            return None\n",
    "        \n",
    "        best_action_idx = np.argmax([self.getQValue(state, action)\n",
    "                           for action in possibleActions])\n",
    "        best_action = possibleActions[best_action_idx]\n",
    "        \n",
    "        return best_action\n",
    "  \n",
    "    def getAction(self, state):\n",
    "        \"\"\"\n",
    "          Compute the action to take in the current state, including exploration.  \n",
    "          \n",
    "          With probability self.epsilon, we should take a random action.\n",
    "          otherwise - the best policy action (self.getPolicy).\n",
    "    \n",
    "          HINT: You might want to use util.flipCoin(prob)\n",
    "          HINT: To pick randomly from a list, use random.choice(list)\n",
    "        \"\"\"\n",
    "        \n",
    "        # Pick Action\n",
    "        possibleActions = self.getLegalActions(state)\n",
    "        action = None\n",
    "        \n",
    "        #If there are no legal actions, return None\n",
    "        if len(possibleActions) == 0:\n",
    "            return None\n",
    "    \n",
    "        #agent parameters:\n",
    "        epsilon = self.epsilon\n",
    "    \n",
    "        e_greedy_prob = np.random.rand()\n",
    "        \n",
    "        if e_greedy_prob < epsilon:\n",
    "            return np.random.choice(possibleActions)\n",
    "        \n",
    "        return self.getPolicy(state)\n",
    "  \n",
    "    def update(self, state, action, nextState, reward):\n",
    "        \"\"\"\n",
    "          You should do your Q-Value update here\n",
    "    \n",
    "          NOTE: You should never call this function,\n",
    "          it will be called on your behalf\n",
    "        \"\"\"\n",
    "        #agent parameters\n",
    "        gamma = self.discount\n",
    "        learning_rate = self.alpha\n",
    "    \n",
    "        reference_qvalue = reward + gamma*self.getValue(nextState)\n",
    "        \n",
    "        updated_qvalue = (1-learning_rate) * self.getQValue(state,action) + learning_rate * reference_qvalue\n",
    "        self.setQValue(state,action,updated_qvalue)\n",
    "\n"
   ]
  },
  {
   "cell_type": "markdown",
   "metadata": {},
   "source": [
    "# 택시 예제"
   ]
  },
  {
   "cell_type": "code",
   "execution_count": 2,
   "metadata": {},
   "outputs": [
    {
     "name": "stderr",
     "output_type": "stream",
     "text": [
      "[2017-07-11 18:09:40,717] Making new env: Taxi-v2\n"
     ]
    },
    {
     "name": "stdout",
     "output_type": "stream",
     "text": [
      "6\n",
      "500\n"
     ]
    }
   ],
   "source": [
    "import gym\n",
    "env = gym.make(\"Taxi-v2\")\n",
    "observation = env.reset()\n",
    "\n",
    "n_actions = env.action_space.n\n",
    "n_states = env.observation_space.n\n",
    "\n",
    "print(n_actions)\n",
    "print(n_states)"
   ]
  },
  {
   "cell_type": "code",
   "execution_count": 3,
   "metadata": {},
   "outputs": [
    {
     "name": "stdout",
     "output_type": "stream",
     "text": [
      "+---------+\n",
      "|R: | : :\u001b[35mG\u001b[0m|\n",
      "| : :\u001b[43m \u001b[0m: : |\n",
      "| : : : : |\n",
      "| | : | : |\n",
      "|Y| : |\u001b[34;1mB\u001b[0m: |\n",
      "+---------+\n",
      "\n",
      "\n"
     ]
    }
   ],
   "source": [
    "a = env.render(mode='ansi')\n",
    "print(a.getvalue())"
   ]
  },
  {
   "cell_type": "code",
   "execution_count": 4,
   "metadata": {
    "collapsed": true
   },
   "outputs": [],
   "source": [
    "agent = QLearningAgent(alpha=0.5,\n",
    "                       epsilon=0.25,\n",
    "                       discount=0.99,\n",
    "                       getLegalActions=lambda s: range(n_actions))"
   ]
  },
  {
   "cell_type": "code",
   "execution_count": 5,
   "metadata": {
    "collapsed": true
   },
   "outputs": [],
   "source": [
    "def play_and_train(env, agent, t_max=10**4):\n",
    "    total_reward = 0.0\n",
    "    s = env.reset()\n",
    "    \n",
    "    for t in range(t_max):\n",
    "        a = agent.getAction(s)\n",
    "\n",
    "        next_s,r,done,_ = env.step(a)\n",
    "        \n",
    "        agent.update(s, a, next_s, r)\n",
    "        \n",
    "        s = next_s\n",
    "        total_reward +=r\n",
    "        if done:break\n",
    "        \n",
    "    return total_reward"
   ]
  },
  {
   "cell_type": "code",
   "execution_count": 6,
   "metadata": {},
   "outputs": [
    {
     "name": "stdout",
     "output_type": "stream",
     "text": [
      "mean reward 7.77\n"
     ]
    },
    {
     "data": {
      "image/png": "[encoded data removed]",
      "text/plain": [
       "<matplotlib.figure.Figure at 0x10cb30be0>"
      ]
     },
     "metadata": {},
     "output_type": "display_data"
    }
   ],
   "source": [
    "from IPython.display import clear_output\n",
    "import matplotlib.pyplot as plt\n",
    "%matplotlib inline\n",
    "\n",
    "rewards = []\n",
    "for i in range(3000):\n",
    "    rewards.append(play_and_train(env, agent))\n",
    "    \n",
    "    agent.epsilon *= 0.999\n",
    "    \n",
    "    if i %100 ==0:\n",
    "        clear_output(True)\n",
    "        print(\"mean reward\",np.mean(rewards[-100:]))\n",
    "        plt.plot(rewards)\n",
    "        plt.show()\n",
    "        "
   ]
  },
  {
   "cell_type": "code",
   "execution_count": 7,
   "metadata": {},
   "outputs": [
    {
     "name": "stdout",
     "output_type": "stream",
     "text": [
      "+---------+\n",
      "|\u001b[35m\u001b[42mR\u001b[0m\u001b[0m: | : :G|\n",
      "| : : : : |\n",
      "| : : : : |\n",
      "| | : | : |\n",
      "|Y| : |B: |\n",
      "+---------+\n",
      "  (West)\n",
      "\n"
     ]
    }
   ],
   "source": [
    "env = gym.make(\"Taxi-v2\")\n",
    "frames = []\n",
    "\n",
    "for j in range(10):  #10개 예제\n",
    "\n",
    "    s = env.reset()\n",
    "\n",
    "    for i in range(100000):\n",
    "        video = env.render(mode='ansi')\n",
    "        frames.append(video.getvalue())\n",
    "        a = agent.getAction(s)\n",
    "        next_s,r,done,_ = env.step(a)\n",
    "        s = next_s\n",
    "\n",
    "        if done:\n",
    "            break\n",
    "\n",
    "import time\n",
    "for frame in frames:\n",
    "    clear_output(True)\n",
    "    print(frame)\n",
    "    time.sleep(0.3)"
   ]
  },
  {
   "cell_type": "markdown",
   "metadata": {
    "collapsed": true
   },
   "source": [
    "## Main Homework\n",
    "\n",
    "agent를 사용해서 `CartPole-v0`를 효율적으로 training한다.\n",
    "\n",
    "이 환경은 state들이 continuous한 숫자로 나타나서, discrete하게 state를 바꿔줘야한다.\n",
    "\n",
    "가장 쉬운 방법은 `round(x, n_digits)`를 사용하여 state를 discrete하게 바꾸는 것이다.\n",
    "\n",
    "Tricky한 부분은 각 state의 n_digits를 잘 결정해서 학습을 효율적으로 하는 것이다.\n",
    "\n",
    "각 state에 대한 정보는 다음과 같다.\n",
    "\n",
    "|Num\t|Observation\t|Min\t|Max|\n",
    "|:--:|:--|:--|:--|\n",
    "|0\t|Cart Position|\t-2.4\t|2.4|\n",
    "|1\t|Cart Velocity|\t-Inf\t|Inf|\n",
    "|2\t|Pole Angle\t|~ -41.8°|\t~ 41.8°|\n",
    "|3\t|Pole Velocity At Tip|\t-Inf|\tInf|"
   ]
  },
  {
   "cell_type": "code",
   "execution_count": 139,
   "metadata": {},
   "outputs": [
    {
     "name": "stderr",
     "output_type": "stream",
     "text": [
      "[2017-07-10 22:21:56,829] Making new env: CartPole-v0\n"
     ]
    },
    {
     "name": "stdout",
     "output_type": "stream",
     "text": [
      "2\n",
      "[ 0.00224153  0.00382006  0.03995311 -0.00391353]\n"
     ]
    }
   ],
   "source": [
    "env = gym.make(\"CartPole-v0\")\n",
    "n_actions = env.action_space.n\n",
    "s = env.reset()\n",
    "print(n_actions)\n",
    "print(s)"
   ]
  },
  {
   "cell_type": "code",
   "execution_count": 140,
   "metadata": {
    "collapsed": true
   },
   "outputs": [],
   "source": [
    "agent = QLearningAgent(alpha=0.5,\n",
    "                       epsilon=1,\n",
    "                       discount=0.99,\n",
    "                       getLegalActions=lambda s: range(n_actions))\n",
    "\n",
    "scale_factors = [2, 10, 50, 20]\n",
    "\n",
    "def play_and_train(env, agent, t_max=10**4):\n",
    "    total_reward = 0.0\n",
    "    states = env.reset()\n",
    "    states = tuple(int(s * scale_factor) for s, scale_factor in zip(states, scale_factors))\n",
    "\n",
    "    for t in range(t_max):\n",
    "        action = agent.getAction(states)\n",
    "\n",
    "        next_states, reward, done, _ = env.step(action)\n",
    "\n",
    "        next_states = tuple(int(s * scale_factor) \n",
    "                       for s, scale_factor in zip(next_states, scale_factors))\n",
    "\n",
    "        agent.update(states,\n",
    "                     action,\n",
    "                     next_states,\n",
    "                     reward)\n",
    "        \n",
    "        states = next_states\n",
    "        total_reward += reward\n",
    "        if done:\n",
    "            break\n",
    "        \n",
    "    return total_reward"
   ]
  },
  {
   "cell_type": "code",
   "execution_count": 141,
   "metadata": {},
   "outputs": [
    {
     "name": "stdout",
     "output_type": "stream",
     "text": [
      "mean reward 199.3\n"
     ]
    },
    {
     "data": {
      "image/png": "[encoded data removed]",
      "text/plain": [
       "<matplotlib.figure.Figure at 0x7f85abc91320>"
      ]
     },
     "metadata": {},
     "output_type": "display_data"
    }
   ],
   "source": [
    "\n",
    "rewards = []\n",
    "for i in range(5001):\n",
    "    rewards.append(play_and_train(env, agent))\n",
    "    if agent.epsilon < 1e-3:\n",
    "        agent.epsilon = 0.0\n",
    "    else:\n",
    "        agent.epsilon *= 0.999\n",
    "    if i % 500 ==0:\n",
    "        clear_output(True)\n",
    "        print(\"mean reward\",np.mean(rewards[-100:]))\n",
    "        plt.plot(rewards)\n",
    "        plt.show()\n",
    "        "
   ]
  },
  {
   "cell_type": "code",
   "execution_count": null,
   "metadata": {
    "collapsed": true
   },
   "outputs": [],
   "source": []
  }
 ],
 "metadata": {
  "kernelspec": {
   "display_name": "Python 3",
   "language": "python",
   "name": "python3"
  },
  "language_info": {
   "codemirror_mode": {
    "name": "ipython",
    "version": 3
   },
   "file_extension": ".py",
   "mimetype": "text/x-python",
   "name": "python",
   "nbconvert_exporter": "python",
   "pygments_lexer": "ipython3",
   "version": "3.5.3"
  }
 },
 "nbformat": 4,
 "nbformat_minor": 2
}
