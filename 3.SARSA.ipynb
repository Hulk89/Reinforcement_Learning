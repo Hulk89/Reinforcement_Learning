{
 "cells": [
  {
   "cell_type": "code",
   "execution_count": 1,
   "metadata": {
    "collapsed": true
   },
   "outputs": [],
   "source": [
    "import numpy as np\n",
    "import matplotlib.pyplot as plt\n",
    "%matplotlib inline\n",
    "from IPython.display import clear_output"
   ]
  },
  {
   "cell_type": "markdown",
   "metadata": {},
   "source": [
    "## 1. Q-learning in the wild\n",
    "\n",
    "이전 챕터에서 만든 Q-learning class를 그대로 가져와쓴다. 주석이 없으니 헷갈리면 이전 notebook을 참고하자!"
   ]
  },
  {
   "cell_type": "code",
   "execution_count": 2,
   "metadata": {},
   "outputs": [
    {
     "name": "stderr",
     "output_type": "stream",
     "text": [
      "[2017-07-11 17:58:54,832] Making new env: Taxi-v2\n"
     ]
    }
   ],
   "source": [
    "import gym\n",
    "env = gym.make(\"Taxi-v2\")\n",
    "\n",
    "n_actions = env.action_space.n"
   ]
  },
  {
   "cell_type": "code",
   "execution_count": 3,
   "metadata": {
    "collapsed": true
   },
   "outputs": [],
   "source": [
    "import random,math\n",
    "\n",
    "import numpy as np\n",
    "from collections import defaultdict\n",
    "\n",
    "class QLearningAgent():\n",
    "    def __init__(self,alpha,epsilon,discount,getLegalActions):\n",
    "        self.getLegalActions= getLegalActions\n",
    "        self._qValues = defaultdict(lambda:defaultdict(lambda:0))\n",
    "        self.alpha = alpha\n",
    "        self.epsilon = epsilon\n",
    "        self.discount = discount\n",
    "  \n",
    "    def getQValue(self, state, action):\n",
    "        return self._qValues[state][action]\n",
    "  \n",
    "    def setQValue(self,state,action,value):\n",
    "        self._qValues[state][action] = value\n",
    "  \n",
    "    def getValue(self, state):\n",
    "        possibleActions = self.getLegalActions(state)\n",
    "\n",
    "        if len(possibleActions) == 0:\n",
    "            return 0.0\n",
    "\n",
    "        return np.max(np.array([self.getQValue(state, action)\n",
    "                               for action in possibleActions]))\n",
    "      \n",
    "    def getPolicy(self, state):\n",
    "        possibleActions = self.getLegalActions(state)\n",
    "    \n",
    "        if len(possibleActions) == 0:\n",
    "            return None\n",
    "        \n",
    "        best_action_idx = np.argmax([self.getQValue(state, action)\n",
    "                           for action in possibleActions])\n",
    "        best_action = possibleActions[best_action_idx]        \n",
    "        return best_action\n",
    "  \n",
    "    def getAction(self, state):\n",
    "        possibleActions = self.getLegalActions(state)\n",
    "        action = None\n",
    "        \n",
    "        if len(possibleActions) == 0:\n",
    "            return None\n",
    "    \n",
    "        epsilon = self.epsilon\n",
    "    \n",
    "        e_greedy_prob = np.random.rand()\n",
    "        \n",
    "        if e_greedy_prob < epsilon:\n",
    "            return np.random.choice(possibleActions)\n",
    "        \n",
    "        return self.getPolicy(state)\n",
    "  \n",
    "    def update(self, state, action, nextState, reward):\n",
    "        gamma = self.discount\n",
    "        learning_rate = self.alpha\n",
    "    \n",
    "        reference_qvalue = reward + gamma*self.getValue(nextState)\n",
    "        \n",
    "        updated_qvalue = (1-learning_rate) * self.getQValue(state,action) + learning_rate * reference_qvalue\n",
    "\n",
    "        self.setQValue(state,action,updated_qvalue)"
   ]
  },
  {
   "cell_type": "code",
   "execution_count": 4,
   "metadata": {},
   "outputs": [],
   "source": [
    "agent = QLearningAgent(alpha=0.5,epsilon=0.2,discount=0.99,\n",
    "                       getLegalActions = lambda s: range(n_actions))"
   ]
  },
  {
   "cell_type": "code",
   "execution_count": 5,
   "metadata": {},
   "outputs": [],
   "source": [
    "def play_and_train(env,agent,t_max=10**4):\n",
    "    total_reward = 0.0\n",
    "    s = env.reset()\n",
    "    \n",
    "    for t in range(t_max):\n",
    "        a = agent.getAction(s)\n",
    "        \n",
    "        next_s,r,done,_ = env.step(a)\n",
    "        \n",
    "        agent.update(s, a, next_s, r)\n",
    "        \n",
    "        s = next_s\n",
    "        total_reward +=r\n",
    "        if done:break\n",
    "        \n",
    "    return total_reward"
   ]
  },
  {
   "cell_type": "code",
   "execution_count": 6,
   "metadata": {},
   "outputs": [
    {
     "name": "stdout",
     "output_type": "stream",
     "text": [
      "mean reward -4.9\n"
     ]
    },
    {
     "data": {
      "image/png": "[encoded data removed]",
      "text/plain": [
       "<matplotlib.figure.Figure at 0x10d06d550>"
      ]
     },
     "metadata": {},
     "output_type": "display_data"
    }
   ],
   "source": [
    "rewards = []\n",
    "for i in range(1000):\n",
    "    rewards.append(play_and_train(env,agent))    \n",
    "    if i %100 ==0:\n",
    "        clear_output(True)\n",
    "        print(\"mean reward\",np.mean(rewards[-100:]))\n",
    "        plt.plot(rewards)\n",
    "        plt.show()\n",
    "        "
   ]
  },
  {
   "cell_type": "markdown",
   "metadata": {},
   "source": [
    "## 2. SARSA (2 pts)\n",
    "\n",
    "### TODO (Sarsa의 원리) 수식 추가\n",
    "\n",
    "* Q-learning: 다음 state의 최적 Q-value로 update\n",
    "* SARSA: update를 할 때, 실제 next_action으로 update\n",
    "\n",
    "그래서 SARSA를 쓰면 noisy한 policy에 대해서 value를 가지며, 더 최적화가 가능하다.\n",
    "\n",
    "물론 해당 예제에서는 epsilon-greedy 방식으로 random action을 해도 value값이 크게 바뀌지 않는다.\n",
    "\n",
    "따라서 다른 예제에서 결과를 확인해보는 것이 좋을 것이다.\n",
    "\n",
    "## 구현\n",
    "\n",
    "sarsa에서 달라지는 부분은 update하는 로직뿐이다. QLearningAgent를 상속받아 작성해보자."
   ]
  },
  {
   "cell_type": "code",
   "execution_count": 7,
   "metadata": {
    "collapsed": true
   },
   "outputs": [],
   "source": [
    "class SarsaAgent(QLearningAgent):\n",
    "    def updateSarsa(self, state, action, nextState, nextAction, reward):\n",
    "        gamma = self.discount\n",
    "        learning_rate = self.alpha\n",
    "\n",
    "        # maxValue를 받지 않고, nextAction에 대해서 받는다.\n",
    "        reference_qvalue = reward + gamma*self.getQValue(nextState, nextAction)\n",
    "        \n",
    "        updated_qvalue = (1-learning_rate) * self.getQValue(state, action) \\\n",
    "                        + learning_rate * reference_qvalue\n",
    "        self.setQValue(state, action, updated_qvalue)\n"
   ]
  },
  {
   "cell_type": "code",
   "execution_count": 8,
   "metadata": {
    "collapsed": true
   },
   "outputs": [],
   "source": [
    "agent = SarsaAgent(alpha=0.25, epsilon=0.25, discount=0.99,\n",
    "                   getLegalActions = lambda s: range(n_actions))\n",
    "# SARSA는 더 작은 learning rate를 필요로 한다."
   ]
  },
  {
   "cell_type": "code",
   "execution_count": 9,
   "metadata": {
    "collapsed": true
   },
   "outputs": [],
   "source": [
    "def play_and_train_sarsa(env,agent,t_max=10**4):\n",
    "    total_reward = 0.0\n",
    "    s = env.reset()\n",
    "    \n",
    "    for t in range(t_max):\n",
    "        a = agent.getAction(s)\n",
    "        \n",
    "        next_s,r,done,_ = env.step(a)\n",
    "        \n",
    "        # agent가 다음 action을 결정한다!!\n",
    "        next_a = agent.getAction(next_s)\n",
    "        \n",
    "        agent.updateSarsa(s, a, next_s, next_a, r)\n",
    "        \n",
    "        s = next_s\n",
    "        total_reward +=r\n",
    "        if done:break\n",
    "        \n",
    "    return total_reward"
   ]
  },
  {
   "cell_type": "code",
   "execution_count": 10,
   "metadata": {},
   "outputs": [
    {
     "name": "stdout",
     "output_type": "stream",
     "text": [
      "mean reward -21.84\n"
     ]
    },
    {
     "data": {
      "image/png": "[encoded data removed]",
      "text/plain": [
       "<matplotlib.figure.Figure at 0x10cfc7a20>"
      ]
     },
     "metadata": {},
     "output_type": "display_data"
    }
   ],
   "source": [
    "rewards = []\n",
    "for i in range(1000):\n",
    "    rewards.append(play_and_train_sarsa(env,agent))    \n",
    "    if i %100 ==0:\n",
    "        clear_output(True)\n",
    "        print(\"mean reward\",np.mean(rewards[-100:]))\n",
    "        plt.plot(rewards)\n",
    "        plt.show()\n",
    "        "
   ]
  },
  {
   "cell_type": "markdown",
   "metadata": {},
   "source": [
    "\n",
    "## 3. Expected value SARSA (2 pts)\n",
    "\n",
    "요거는 아직 제대로 안돈다... Sampling을 하라는 것 같은데... 나중에 다시보자"
   ]
  },
  {
   "cell_type": "code",
   "execution_count": 39,
   "metadata": {},
   "outputs": [
    {
     "name": "stderr",
     "output_type": "stream",
     "text": [
      "[2017-07-11 18:12:43,034] Making new env: Taxi-v2\n"
     ]
    }
   ],
   "source": [
    "import gym\n",
    "env = gym.make(\"Taxi-v2\")\n",
    "\n",
    "n_actions = env.action_space.n"
   ]
  },
  {
   "cell_type": "code",
   "execution_count": 46,
   "metadata": {
    "collapsed": true
   },
   "outputs": [],
   "source": [
    "class EVSarsaAgent(QLearningAgent):\n",
    "    def getValue(self, state):\n",
    "        possibleActions = self.getLegalActions(state)\n",
    "\n",
    "        if len(possibleActions) == 0:\n",
    "            return 0.0\n",
    "\n",
    "        epsilon = self.epsilon\n",
    "        -\n",
    "        QValues = np.array([self.getQValue(state, action) \n",
    "                            for action in possibleActions])\n",
    "        norm_QValues = QValues/np.sum(QValues+0.000001)*(1-epsilon)\n",
    "        value = np.sum(np.dot(norm_QValues, QValues.T))\n",
    "\n",
    "\n",
    "        epsilons = np.array([epsilon]*len(possibleActions))\n",
    "        value += np.sum(np.dot(epsilons, QValues.T))\n",
    "        \n",
    "        \n",
    "        return value\n",
    "\n",
    "agent = EVSarsaAgent(alpha=0.5,\n",
    "                     epsilon=0.25,\n",
    "                     discount=0.99,\n",
    "                     getLegalActions = lambda s: range(n_actions))"
   ]
  },
  {
   "cell_type": "code",
   "execution_count": 45,
   "metadata": {},
   "outputs": [
    {
     "name": "stdout",
     "output_type": "stream",
     "text": [
      "[ 0.16666658  0.33333317  0.49999975]\n",
      "2.33333216667\n"
     ]
    }
   ],
   "source": [
    "QValues = np.array([1, 2, 3])\n",
    "\n",
    "norm_QValues = QValues/np.sum(QValues+0.000001)\n",
    "print(norm_QValues)\n",
    "value = np.sum(np.dot(norm_QValues, QValues.T))\n",
    "print(value)"
   ]
  },
  {
   "cell_type": "markdown",
   "metadata": {},
   "source": [
    "### Train EV-SARSA\n",
    "\n",
    "Note that it uses __the same update parameters as__ qlearning so you can use the ```play_and_train``` function from q-learning.\n",
    "\n",
    "Please try both constant epsilon = 0.25 and decreasing epsilon."
   ]
  },
  {
   "cell_type": "code",
   "execution_count": 43,
   "metadata": {},
   "outputs": [
    {
     "name": "stdout",
     "output_type": "stream",
     "text": [
      "mean reward -678.79\n"
     ]
    },
    {
     "data": {
      "image/png": "[encoded data removed]",
      "text/plain": [
       "<matplotlib.figure.Figure at 0x10d0c44e0>"
      ]
     },
     "metadata": {},
     "output_type": "display_data"
    }
   ],
   "source": [
    "\n",
    "rewards = []\n",
    "for i in range(1000):\n",
    "    rewards.append(play_and_train(env,agent))    \n",
    "    if i %100 ==0:\n",
    "        clear_output(True)\n",
    "        print(\"mean reward\",np.mean(rewards[-100:]))\n",
    "        plt.plot(rewards)\n",
    "        plt.show()"
   ]
  },
  {
   "cell_type": "code",
   "execution_count": null,
   "metadata": {
    "collapsed": true
   },
   "outputs": [],
   "source": []
  }
 ],
 "metadata": {
  "kernelspec": {
   "display_name": "Python 3",
   "language": "python",
   "name": "python3"
  },
  "language_info": {
   "codemirror_mode": {
    "name": "ipython",
    "version": 3
   },
   "file_extension": ".py",
   "mimetype": "text/x-python",
   "name": "python",
   "nbconvert_exporter": "python",
   "pygments_lexer": "ipython3",
   "version": "3.5.3"
  }
 },
 "nbformat": 4,
 "nbformat_minor": 1
}
